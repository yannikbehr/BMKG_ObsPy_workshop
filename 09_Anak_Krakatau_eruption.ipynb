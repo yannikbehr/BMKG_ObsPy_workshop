{
  "cells": [
    {
      "cell_type": "markdown",
      "metadata": {
        "id": "ku0v2fdYRH-n"
      },
      "source": [
        "<img src=\"https://raw.githubusercontent.com/seismo-live/seismo_live/refs/heads/master/notebooks/Workshops/2017_Baku_STCU_IRIS_ObsPy_course/images/obspy_logo_full_524x179px.png\" width=90%>"
      ]
    },
    {
      "cell_type": "markdown",
      "metadata": {
        "id": "UOWiIcf7RH-o"
      },
      "source": [
        "In this notebooks we will look at the Anak Krakatau eruption from 2018 in more detail. We will use the data that you downloaded in the FDSN exercise."
      ]
    },
    {
      "cell_type": "code",
      "execution_count": null,
      "metadata": {
        "id": "gNJtS1FIRH-o"
      },
      "outputs": [],
      "source": [
        "try:\n",
        "  import obspy\n",
        "  import cartopy\n",
        "except ModuleNotFoundError:\n",
        "  !pip -qq install obspy cartopy\n",
        "  import cartopy\n",
        "  import obspy\n"
      ]
    },
    {
      "cell_type": "code",
      "execution_count": null,
      "metadata": {
        "id": "zOAmoCWPRH-p"
      },
      "outputs": [],
      "source": [
        "!wget https://github.com/yannikbehr/BMKG_ObsPy_workshop/raw/refs/heads/main/data/indonesia_waveforms.tar.gz\n",
        "!tar -xzf indonesia_waveforms.tar.gz"
      ]
    },
    {
      "cell_type": "markdown",
      "metadata": {
        "id": "9SLeCeaCRH-q"
      },
      "source": [
        "Let's start again by first loading the catalogue around the eruption time at 2018-12-22T13:55:00. We will use Geofon's catalogue as IRIS' catalogue doesn't contain this event."
      ]
    },
    {
      "cell_type": "code",
      "execution_count": null,
      "metadata": {
        "id": "byhpbzwGRH-q"
      },
      "outputs": [],
      "source": []
    },
    {
      "cell_type": "markdown",
      "metadata": {
        "id": "Gx1oVQYdRH-q"
      },
      "source": [
        "We are interested in the M5.1 event. Select the event from the catalog and print its latitude, longitude and depth using the `preferred_origin()` method."
      ]
    },
    {
      "cell_type": "code",
      "execution_count": null,
      "metadata": {
        "id": "cTjduYuMRH-r"
      },
      "outputs": [],
      "source": []
    },
    {
      "cell_type": "markdown",
      "metadata": {
        "id": "AWi25hWkRH-r"
      },
      "source": [
        "Now read in the waveform data `data/anak_krakatau_2018.mseed` into a `stream`."
      ]
    },
    {
      "cell_type": "code",
      "execution_count": null,
      "metadata": {
        "id": "mnFP0kDURH-r"
      },
      "outputs": [],
      "source": []
    },
    {
      "cell_type": "markdown",
      "metadata": {
        "id": "I7E7Bda-RH-r"
      },
      "source": [
        "Next we have to download the instrument response for each station which we will need for the magnitude computation later on. To do so use the `level=response` keyword argument to [get_stations](https://docs.obspy.org/packages/autogen/obspy.clients.fdsn.client.Client.get_stations.html#obspy.clients.fdsn.client.Client.get_stations)."
      ]
    },
    {
      "cell_type": "code",
      "execution_count": null,
      "metadata": {
        "id": "38bEHU0zRH-r"
      },
      "outputs": [],
      "source": []
    },
    {
      "cell_type": "markdown",
      "metadata": {
        "id": "T9FVHiAYRH-s"
      },
      "source": [
        "Now we want to plot a record section of the data as shown [here](https://docs.obspy.org/tutorial/code_snippets/waveform_plotting_tutorial.html#plotting-a-record-section). To do so we first need to compute the distance of each station to the event in meters. You can use the function [gps2dist_azimuth](https://docs.obspy.org/packages/autogen/obspy.geodetics.base.gps2dist_azimuth.html#obspy.geodetics.base.gps2dist_azimuth) from the [obspy.geodetics](https://docs.obspy.org/packages/obspy.geodetics.html#module-obspy.geodetics) module."
      ]
    },
    {
      "cell_type": "code",
      "execution_count": null,
      "metadata": {
        "id": "WPGnX9llRH-s"
      },
      "outputs": [],
      "source": []
    },
    {
      "cell_type": "markdown",
      "metadata": {
        "id": "UUiC_AfBRH-s"
      },
      "source": [
        "Next let's calculate some rough theoretical travel times for the P-wave using the ak135 earth model. You can do that using the [obspy.taup](https://docs.obspy.org/packages/obspy.taup.html#module-obspy.taup) module."
      ]
    },
    {
      "cell_type": "code",
      "execution_count": null,
      "metadata": {
        "id": "48ZQceyFRH-s"
      },
      "outputs": [],
      "source": []
    },
    {
      "cell_type": "code",
      "execution_count": null,
      "metadata": {
        "id": "xzt38sVmRH-t"
      },
      "outputs": [],
      "source": []
    },
    {
      "cell_type": "markdown",
      "metadata": {
        "id": "_i6uurOaRH-t"
      },
      "source": [
        "You may have noticed that you get five different travel times for the P-wave. To find out why plot the ray paths using the [get_ray_paths](https://docs.obspy.org/packages/obspy.taup.html#module-obspy.taup) and [plot_rays](https://docs.obspy.org/packages/obspy.taup.html#module-obspy.taup) methods."
      ]
    },
    {
      "cell_type": "code",
      "execution_count": null,
      "metadata": {
        "id": "wz-gBZJBRH-t"
      },
      "outputs": [],
      "source": []
    },
    {
      "cell_type": "markdown",
      "metadata": {
        "id": "HjwDTNEARH-t"
      },
      "source": [
        "Now you have everything to plot a record section for the data. For an extra challenge try to add station names and theoretical first arrival times. You can get some ideas how to do that by looking at the source code of the [example](https://docs.obspy.org/tutorial/code_snippets/waveform_plotting_tutorial.html#plotting-a-record-section)."
      ]
    },
    {
      "cell_type": "code",
      "execution_count": null,
      "metadata": {
        "id": "chE1bmD2RH-t"
      },
      "outputs": [],
      "source": []
    },
    {
      "cell_type": "markdown",
      "metadata": {
        "id": "OGOj51_ORH-u"
      },
      "source": [
        "To calculate the magnitude first plot the [spectrograms](https://docs.obspy.org/packages/obspy.imaging.html#module-obspy.imaging) so you can get an idea of the frequency content of the surface waves."
      ]
    },
    {
      "cell_type": "code",
      "execution_count": null,
      "metadata": {
        "id": "kOKiVrHbRH-u"
      },
      "outputs": [],
      "source": []
    },
    {
      "cell_type": "markdown",
      "metadata": {
        "id": "kyrmnVxhRH-u"
      },
      "source": [
        "Now you have all the information to compute the magnitude of the event. We will use [estimate_magnitude](https://docs.obspy.org/packages/autogen/obspy.signal.invsim.estimate_magnitude.html#obspy.signal.invsim.estimate_magnitude) to do so. Can you think of reasons why the magnitude was underestimated?"
      ]
    },
    {
      "cell_type": "code",
      "execution_count": null,
      "metadata": {
        "id": "cJUISMBLRH-u"
      },
      "outputs": [],
      "source": []
    }
  ],
  "metadata": {
    "kernelspec": {
      "display_name": "pyvolprob",
      "language": "python",
      "name": "python3"
    },
    "language_info": {
      "codemirror_mode": {
        "name": "ipython",
        "version": 3
      },
      "file_extension": ".py",
      "mimetype": "text/x-python",
      "name": "python",
      "nbconvert_exporter": "python",
      "pygments_lexer": "ipython3",
      "version": "3.9.16"
    },
    "colab": {
      "provenance": []
    }
  },
  "nbformat": 4,
  "nbformat_minor": 0
}